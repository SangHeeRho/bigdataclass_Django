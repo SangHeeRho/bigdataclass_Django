{
 "cells": [
  {
   "cell_type": "code",
   "execution_count": 8,
   "source": [
    "import pytest\r\n",
    "from ml_sanghee import predict"
   ],
   "outputs": [],
   "metadata": {}
  },
  {
   "cell_type": "code",
   "execution_count": 10,
   "source": [
    "print(f\"이미지 3 예측 결과 : {predict('C:/sanghee/8.2/sample-3.png')}\")\r\n",
    "print(predict('C:/sanghee/8.2/sample-7.png'))"
   ],
   "outputs": [
    {
     "output_type": "stream",
     "name": "stdout",
     "text": [
      "이미지 3 예측 결과 : 3\n",
      "7\n"
     ]
    }
   ],
   "metadata": {}
  }
 ],
 "metadata": {
  "orig_nbformat": 4,
  "language_info": {
   "name": "python",
   "version": "3.7.10",
   "mimetype": "text/x-python",
   "codemirror_mode": {
    "name": "ipython",
    "version": 3
   },
   "pygments_lexer": "ipython3",
   "nbconvert_exporter": "python",
   "file_extension": ".py"
  },
  "kernelspec": {
   "name": "python3",
   "display_name": "Python 3.7.10 64-bit ('django': conda)"
  },
  "interpreter": {
   "hash": "1ba6a0f341a5cbda34c5716c35629a0e7d1de3ddcd20e92bfa9b649de493f6d3"
  }
 },
 "nbformat": 4,
 "nbformat_minor": 2
}